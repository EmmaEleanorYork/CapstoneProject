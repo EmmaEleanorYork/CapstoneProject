{
 "cells": [
  {
   "cell_type": "code",
   "execution_count": 1,
   "metadata": {},
   "outputs": [],
   "source": [
    "# Emma's capstone project! Wish me luck!"
   ]
  },
  {
   "cell_type": "markdown",
   "metadata": {},
   "source": [
    "For my capstone, I have decided to build a skincare/makeup trend forcast model. I will scrape various sites that I believe to be influencial and see if they wrote/spoke about products that were later released at high-profile retailer stores, Sephora and Ulta."
   ]
  },
  {
   "cell_type": "markdown",
   "metadata": {},
   "source": [
    "My main goal is to build a model that predicts the upcoming trends in makeup and skincare by scraping various blogs/youtube/instagram pages."
   ]
  },
  {
   "cell_type": "code",
   "execution_count": 2,
   "metadata": {},
   "outputs": [
    {
     "name": "stdout",
     "output_type": "stream",
     "text": [
      "Collecting praw\n",
      "\u001b[?25l  Downloading https://files.pythonhosted.org/packages/a4/d7/0c7fb864ab9469f2964b2787910c78ade6d98c2d1710df1deab61beb99a1/praw-6.0.0-py2.py3-none-any.whl (99kB)\n",
      "\u001b[K    100% |████████████████████████████████| 102kB 1.1MB/s a 0:00:01\n",
      "\u001b[?25hCollecting update-checker>=0.16 (from praw)\n",
      "  Downloading https://files.pythonhosted.org/packages/17/c9/ab11855af164d03be0ff4fddd4c46a5bd44799a9ecc1770e01a669c21168/update_checker-0.16-py2.py3-none-any.whl\n",
      "Collecting prawcore<2.0,>=1.0.0 (from praw)\n",
      "  Downloading https://files.pythonhosted.org/packages/cd/6d/4bf4d65d4771b15c70284c0626d24f230a5de6edac75c446fd22008ddbf6/prawcore-1.0.0-py2.py3-none-any.whl\n",
      "Requirement already satisfied: requests>=2.3.0 in /Users/emmaeleanoryork/anaconda3/lib/python3.6/site-packages (from update-checker>=0.16->praw) (2.18.4)\n",
      "Requirement already satisfied: chardet<3.1.0,>=3.0.2 in /Users/emmaeleanoryork/anaconda3/lib/python3.6/site-packages (from requests>=2.3.0->update-checker>=0.16->praw) (3.0.4)\n",
      "Requirement already satisfied: idna<2.7,>=2.5 in /Users/emmaeleanoryork/anaconda3/lib/python3.6/site-packages (from requests>=2.3.0->update-checker>=0.16->praw) (2.6)\n",
      "Requirement already satisfied: urllib3<1.23,>=1.21.1 in /Users/emmaeleanoryork/anaconda3/lib/python3.6/site-packages (from requests>=2.3.0->update-checker>=0.16->praw) (1.22)\n",
      "Requirement already satisfied: certifi>=2017.4.17 in /Users/emmaeleanoryork/anaconda3/lib/python3.6/site-packages (from requests>=2.3.0->update-checker>=0.16->praw) (2018.8.24)\n",
      "Installing collected packages: update-checker, prawcore, praw\n",
      "Successfully installed praw-6.0.0 prawcore-1.0.0 update-checker-0.16\n"
     ]
    }
   ],
   "source": [
    "!pip3 install praw"
   ]
  },
  {
   "cell_type": "code",
   "execution_count": 48,
   "metadata": {},
   "outputs": [
    {
     "name": "stdout",
     "output_type": "stream",
     "text": [
      "Collecting psaw\n",
      "  Downloading https://files.pythonhosted.org/packages/60/b7/6724defc12bdcc45470e2b1fc1b978367f3d183ec6c6baa2770a0b083fc7/psaw-0.0.7-py3-none-any.whl\n",
      "Requirement already satisfied: requests in /Users/emmaeleanoryork/anaconda3/lib/python3.6/site-packages (from psaw) (2.18.4)\n",
      "Requirement already satisfied: chardet<3.1.0,>=3.0.2 in /Users/emmaeleanoryork/anaconda3/lib/python3.6/site-packages (from requests->psaw) (3.0.4)\n",
      "Requirement already satisfied: idna<2.7,>=2.5 in /Users/emmaeleanoryork/anaconda3/lib/python3.6/site-packages (from requests->psaw) (2.6)\n",
      "Requirement already satisfied: urllib3<1.23,>=1.21.1 in /Users/emmaeleanoryork/anaconda3/lib/python3.6/site-packages (from requests->psaw) (1.22)\n",
      "Requirement already satisfied: certifi>=2017.4.17 in /Users/emmaeleanoryork/anaconda3/lib/python3.6/site-packages (from requests->psaw) (2018.8.24)\n",
      "Installing collected packages: psaw\n",
      "Successfully installed psaw-0.0.7\n"
     ]
    }
   ],
   "source": [
    "!pip install psaw"
   ]
  },
  {
   "cell_type": "code",
   "execution_count": 2,
   "metadata": {},
   "outputs": [],
   "source": [
    "import requests\n",
    "import pandas as pd\n",
    "import time\n",
    "import json\n",
    "from sklearn.neighbors import KNeighborsClassifier\n",
    "import matplotlib.pyplot as plt\n",
    "import praw"
   ]
  },
  {
   "cell_type": "code",
   "execution_count": 5,
   "metadata": {},
   "outputs": [],
   "source": [
    "df = pd.read_csv(\"../comment_dict-12200-.csv\")"
   ]
  },
  {
   "cell_type": "code",
   "execution_count": 6,
   "metadata": {},
   "outputs": [
    {
     "name": "stdout",
     "output_type": "stream",
     "text": [
      "<class 'pandas.core.frame.DataFrame'>\n",
      "RangeIndex: 12200 entries, 0 to 12199\n",
      "Data columns (total 7 columns):\n",
      "Unnamed: 0     12200 non-null int64\n",
      "author         12085 non-null object\n",
      "body           12200 non-null object\n",
      "created_utc    12200 non-null float64\n",
      "gilded         12200 non-null int64\n",
      "score          12200 non-null int64\n",
      "parent_id      12200 non-null object\n",
      "dtypes: float64(1), int64(3), object(3)\n",
      "memory usage: 667.3+ KB\n"
     ]
    }
   ],
   "source": [
    "df.info()"
   ]
  },
  {
   "cell_type": "code",
   "execution_count": 7,
   "metadata": {
    "scrolled": true
   },
   "outputs": [
    {
     "data": {
      "text/plain": [
       "0        2018\n",
       "1        2018\n",
       "2        2018\n",
       "3        2018\n",
       "4        2018\n",
       "5        2018\n",
       "6        2018\n",
       "7        2018\n",
       "8        2018\n",
       "9        2018\n",
       "10       2018\n",
       "11       2018\n",
       "12       2018\n",
       "13       2018\n",
       "14       2018\n",
       "15       2018\n",
       "16       2018\n",
       "17       2018\n",
       "18       2018\n",
       "19       2018\n",
       "20       2018\n",
       "21       2018\n",
       "22       2018\n",
       "23       2018\n",
       "24       2018\n",
       "25       2018\n",
       "26       2018\n",
       "27       2018\n",
       "28       2018\n",
       "29       2018\n",
       "         ... \n",
       "12170    2018\n",
       "12171    2018\n",
       "12172    2018\n",
       "12173    2018\n",
       "12174    2018\n",
       "12175    2018\n",
       "12176    2018\n",
       "12177    2018\n",
       "12178    2018\n",
       "12179    2018\n",
       "12180    2018\n",
       "12181    2018\n",
       "12182    2018\n",
       "12183    2018\n",
       "12184    2018\n",
       "12185    2018\n",
       "12186    2018\n",
       "12187    2018\n",
       "12188    2018\n",
       "12189    2018\n",
       "12190    2018\n",
       "12191    2018\n",
       "12192    2018\n",
       "12193    2018\n",
       "12194    2018\n",
       "12195    2018\n",
       "12196    2018\n",
       "12197    2018\n",
       "12198    2018\n",
       "12199    2018\n",
       "Name: created, Length: 12200, dtype: int64"
      ]
     },
     "execution_count": 7,
     "metadata": {},
     "output_type": "execute_result"
    }
   ],
   "source": [
    "import datetime as dt\n",
    "def get_date(created):\n",
    "    return dt.datetime.fromtimestamp(created)\n",
    "\n",
    "df[\"created\"] = df['created_utc'].apply(get_date)\n",
    "\n",
    "df['created'].dt.year"
   ]
  },
  {
   "cell_type": "code",
   "execution_count": 9,
   "metadata": {},
   "outputs": [
    {
     "data": {
      "text/plain": [
       "9    12200\n",
       "Name: created, dtype: int64"
      ]
     },
     "execution_count": 9,
     "metadata": {},
     "output_type": "execute_result"
    }
   ],
   "source": [
    "df['created'].dt.month.value_counts()"
   ]
  },
  {
   "cell_type": "code",
   "execution_count": 13,
   "metadata": {},
   "outputs": [
    {
     "data": {
      "text/plain": [
       "23    1891\n",
       "21    1681\n",
       "24    1555\n",
       "25    1410\n",
       "22    1397\n",
       "20    1382\n",
       "26    1369\n",
       "27     860\n",
       "19     655\n",
       "Name: created, dtype: int64"
      ]
     },
     "execution_count": 13,
     "metadata": {},
     "output_type": "execute_result"
    }
   ],
   "source": [
    "df['created'].dt.day.value_counts()"
   ]
  },
  {
   "cell_type": "code",
   "execution_count": 16,
   "metadata": {},
   "outputs": [
    {
     "data": {
      "text/plain": [
       "4266"
      ]
     },
     "execution_count": 16,
     "metadata": {},
     "output_type": "execute_result"
    }
   ],
   "source": [
    "len(df['author'].unique())"
   ]
  },
  {
   "cell_type": "code",
   "execution_count": 19,
   "metadata": {},
   "outputs": [
    {
     "data": {
      "text/plain": [
       "217"
      ]
     },
     "execution_count": 19,
     "metadata": {},
     "output_type": "execute_result"
    }
   ],
   "source": [
    "df['body'].duplicated().sum()"
   ]
  },
  {
   "cell_type": "code",
   "execution_count": 3,
   "metadata": {},
   "outputs": [],
   "source": [
    "#url_ska = \"https://www.reddit.com/r/SkincareAddiction/\""
   ]
  },
  {
   "cell_type": "code",
   "execution_count": null,
   "metadata": {},
   "outputs": [],
   "source": []
  },
  {
   "cell_type": "code",
   "execution_count": null,
   "metadata": {},
   "outputs": [],
   "source": [
    "#res_ska = requests.get(url_ska, headers = {'User-agent': 'Emma York'})"
   ]
  },
  {
   "cell_type": "code",
   "execution_count": null,
   "metadata": {},
   "outputs": [],
   "source": []
  },
  {
   "cell_type": "code",
   "execution_count": 20,
   "metadata": {},
   "outputs": [],
   "source": [
    "reddit = praw.Reddit(client_id='bloYvop93Z9o5A', client_secret='VEqPOoC4WGtvTk0GYIol58vJqKE',\n",
    "                     password='spookylipstick', user_agent='whoiswilliammurray - DSI',\n",
    "                     username='whoiswilliammurray')"
   ]
  },
  {
   "cell_type": "code",
   "execution_count": null,
   "metadata": {},
   "outputs": [],
   "source": []
  },
  {
   "cell_type": "code",
   "execution_count": null,
   "metadata": {},
   "outputs": [],
   "source": []
  },
  {
   "cell_type": "code",
   "execution_count": null,
   "metadata": {},
   "outputs": [],
   "source": []
  },
  {
   "cell_type": "code",
   "execution_count": null,
   "metadata": {},
   "outputs": [],
   "source": []
  },
  {
   "cell_type": "code",
   "execution_count": null,
   "metadata": {},
   "outputs": [],
   "source": []
  },
  {
   "cell_type": "code",
   "execution_count": null,
   "metadata": {},
   "outputs": [],
   "source": []
  },
  {
   "cell_type": "code",
   "execution_count": null,
   "metadata": {},
   "outputs": [],
   "source": []
  },
  {
   "cell_type": "code",
   "execution_count": null,
   "metadata": {},
   "outputs": [],
   "source": []
  },
  {
   "cell_type": "code",
   "execution_count": 32,
   "metadata": {},
   "outputs": [],
   "source": [
    "skin_care_addict = reddit.subreddit(\"SkincareAddiction\")"
   ]
  },
  {
   "cell_type": "code",
   "execution_count": 39,
   "metadata": {},
   "outputs": [],
   "source": [
    "skin_care_addict_new = skin_care_addict.new(limit = 10)"
   ]
  },
  {
   "cell_type": "code",
   "execution_count": 40,
   "metadata": {},
   "outputs": [
    {
     "data": {
      "text/plain": [
       "<praw.models.listing.generator.ListingGenerator at 0x110feb7b8>"
      ]
     },
     "execution_count": 40,
     "metadata": {},
     "output_type": "execute_result"
    }
   ],
   "source": [
    "skin_care_addict_new"
   ]
  },
  {
   "cell_type": "code",
   "execution_count": 41,
   "metadata": {
    "scrolled": true
   },
   "outputs": [
    {
     "name": "stdout",
     "output_type": "stream",
     "text": [
      "1\n",
      "2\n",
      "3\n",
      "4\n",
      "5\n",
      "6\n",
      "7\n",
      "8\n",
      "9\n"
     ]
    }
   ],
   "source": [
    "dict_new = {\"title\":[],\n",
    "            \"subreddit\":[],\n",
    "                \"score\":[], \n",
    "                \"id\":[], \n",
    "                \"url\":[], \n",
    "                \"comms_num\": [], \n",
    "                \"created\": [], \n",
    "                \"body\":[]}\n",
    "\n",
    "comment_dict = {\"author\": [],\n",
    "                \"body\": [],\n",
    "                \"created_utc\": [],\n",
    "                \"gilded\": [],\n",
    "                \"score\": [],\n",
    "                \"parent_id\": []}\n",
    "counter = 0\n",
    "\n",
    "for submission in skin_care_addict_new:\n",
    "#     dict_new[\"title\"].append(submission.title)\n",
    "#     dict_new['subreddit'].append(submission.subreddit)\n",
    "#     dict_new[\"score\"].append(submission.score)\n",
    "#     dict_new[\"id\"].append(submission.id)\n",
    "#     dict_new[\"url\"].append(submission.url)\n",
    "#     dict_new[\"comms_num\"].append(submission.num_comments)\n",
    "#     dict_new[\"created\"].append(submission.created)\n",
    "#     dict_new[\"body\"].append(submission.selftext)\n",
    "    \n",
    "    submission.comments.replace_more(limit=None)\n",
    "    \n",
    "    for comment in submission.comments.list():\n",
    "        \n",
    "        counter += 1\n",
    "        \n",
    "        comment_dict['author'].append(comment.author)\n",
    "        comment_dict['body'].append(comment.body)\n",
    "        comment_dict['created_utc'].append(comment.created_utc)\n",
    "        comment_dict['gilded'].append(comment.gilded)\n",
    "        comment_dict['score'].append(comment.score)\n",
    "        comment_dict['parent_id'].append(comment.parent_id)\n",
    "        \n",
    "        print(counter)\n",
    "        \n",
    "        df_test = pd.DataFrame(comment_dict)\n",
    "        #if counter % 100 == 0:\n",
    "            #df = pd.DataFrame(comment_dict)\n",
    "            #df.to_csv('comment_dict-' + str(counter) + '-.csv')"
   ]
  },
  {
   "cell_type": "code",
   "execution_count": 43,
   "metadata": {},
   "outputs": [
    {
     "data": {
      "text/html": [
       "<div>\n",
       "<style scoped>\n",
       "    .dataframe tbody tr th:only-of-type {\n",
       "        vertical-align: middle;\n",
       "    }\n",
       "\n",
       "    .dataframe tbody tr th {\n",
       "        vertical-align: top;\n",
       "    }\n",
       "\n",
       "    .dataframe thead th {\n",
       "        text-align: right;\n",
       "    }\n",
       "</style>\n",
       "<table border=\"1\" class=\"dataframe\">\n",
       "  <thead>\n",
       "    <tr style=\"text-align: right;\">\n",
       "      <th></th>\n",
       "      <th>author</th>\n",
       "      <th>body</th>\n",
       "      <th>created_utc</th>\n",
       "      <th>gilded</th>\n",
       "      <th>score</th>\n",
       "      <th>parent_id</th>\n",
       "    </tr>\n",
       "  </thead>\n",
       "  <tbody>\n",
       "    <tr>\n",
       "      <th>0</th>\n",
       "      <td>JuliaAe</td>\n",
       "      <td>What botheres me the most is that most of them...</td>\n",
       "      <td>1.538168e+09</td>\n",
       "      <td>0</td>\n",
       "      <td>1</td>\n",
       "      <td>t3_9jqmvo</td>\n",
       "    </tr>\n",
       "    <tr>\n",
       "      <th>1</th>\n",
       "      <td>mosho84</td>\n",
       "      <td>I haven't tried the hydration products of cosr...</td>\n",
       "      <td>1.538168e+09</td>\n",
       "      <td>0</td>\n",
       "      <td>1</td>\n",
       "      <td>t3_9jqiqc</td>\n",
       "    </tr>\n",
       "    <tr>\n",
       "      <th>2</th>\n",
       "      <td>Cheralia123</td>\n",
       "      <td>&gt; I absolutely love the Hada Labo lotions\\n\\nw...</td>\n",
       "      <td>1.538168e+09</td>\n",
       "      <td>0</td>\n",
       "      <td>1</td>\n",
       "      <td>t1_e6thzb9</td>\n",
       "    </tr>\n",
       "    <tr>\n",
       "      <th>3</th>\n",
       "      <td>hugegrape</td>\n",
       "      <td>So occasionally I get these gigantic inflamed ...</td>\n",
       "      <td>1.538166e+09</td>\n",
       "      <td>0</td>\n",
       "      <td>1</td>\n",
       "      <td>t3_9jqew8</td>\n",
       "    </tr>\n",
       "    <tr>\n",
       "      <th>4</th>\n",
       "      <td>ManslaughterMary</td>\n",
       "      <td>Try some antihistamines, see what happens</td>\n",
       "      <td>1.538168e+09</td>\n",
       "      <td>0</td>\n",
       "      <td>1</td>\n",
       "      <td>t3_9jqew8</td>\n",
       "    </tr>\n",
       "    <tr>\n",
       "      <th>5</th>\n",
       "      <td>Eatmy-brain</td>\n",
       "      <td>Halal means alcohol and pig free. \\nCruelty fr...</td>\n",
       "      <td>1.538166e+09</td>\n",
       "      <td>0</td>\n",
       "      <td>1</td>\n",
       "      <td>t3_9jqcrw</td>\n",
       "    </tr>\n",
       "    <tr>\n",
       "      <th>6</th>\n",
       "      <td>Rkneeacl</td>\n",
       "      <td>For someone seeking animal free cruelty free w...</td>\n",
       "      <td>1.538166e+09</td>\n",
       "      <td>0</td>\n",
       "      <td>1</td>\n",
       "      <td>t1_e6tg0rd</td>\n",
       "    </tr>\n",
       "    <tr>\n",
       "      <th>7</th>\n",
       "      <td>mosho84</td>\n",
       "      <td>I bought mine from Amazon. You can also buy it...</td>\n",
       "      <td>1.538168e+09</td>\n",
       "      <td>0</td>\n",
       "      <td>1</td>\n",
       "      <td>t3_9jqco2</td>\n",
       "    </tr>\n",
       "    <tr>\n",
       "      <th>8</th>\n",
       "      <td>delayme</td>\n",
       "      <td>For clarification: I used to have really bad h...</td>\n",
       "      <td>1.538165e+09</td>\n",
       "      <td>0</td>\n",
       "      <td>1</td>\n",
       "      <td>t3_9jq9db</td>\n",
       "    </tr>\n",
       "  </tbody>\n",
       "</table>\n",
       "</div>"
      ],
      "text/plain": [
       "             author                                               body  \\\n",
       "0           JuliaAe  What botheres me the most is that most of them...   \n",
       "1           mosho84  I haven't tried the hydration products of cosr...   \n",
       "2       Cheralia123  > I absolutely love the Hada Labo lotions\\n\\nw...   \n",
       "3         hugegrape  So occasionally I get these gigantic inflamed ...   \n",
       "4  ManslaughterMary          Try some antihistamines, see what happens   \n",
       "5       Eatmy-brain  Halal means alcohol and pig free. \\nCruelty fr...   \n",
       "6          Rkneeacl  For someone seeking animal free cruelty free w...   \n",
       "7           mosho84  I bought mine from Amazon. You can also buy it...   \n",
       "8           delayme  For clarification: I used to have really bad h...   \n",
       "\n",
       "    created_utc  gilded  score   parent_id  \n",
       "0  1.538168e+09       0      1   t3_9jqmvo  \n",
       "1  1.538168e+09       0      1   t3_9jqiqc  \n",
       "2  1.538168e+09       0      1  t1_e6thzb9  \n",
       "3  1.538166e+09       0      1   t3_9jqew8  \n",
       "4  1.538168e+09       0      1   t3_9jqew8  \n",
       "5  1.538166e+09       0      1   t3_9jqcrw  \n",
       "6  1.538166e+09       0      1  t1_e6tg0rd  \n",
       "7  1.538168e+09       0      1   t3_9jqco2  \n",
       "8  1.538165e+09       0      1   t3_9jq9db  "
      ]
     },
     "execution_count": 43,
     "metadata": {},
     "output_type": "execute_result"
    }
   ],
   "source": [
    "df_test"
   ]
  },
  {
   "cell_type": "code",
   "execution_count": 45,
   "metadata": {},
   "outputs": [],
   "source": [
    "df_test = pd.read_csv('../comment_dict-10000-.csv')"
   ]
  },
  {
   "cell_type": "code",
   "execution_count": 46,
   "metadata": {},
   "outputs": [
    {
     "data": {
      "text/html": [
       "<div>\n",
       "<style scoped>\n",
       "    .dataframe tbody tr th:only-of-type {\n",
       "        vertical-align: middle;\n",
       "    }\n",
       "\n",
       "    .dataframe tbody tr th {\n",
       "        vertical-align: top;\n",
       "    }\n",
       "\n",
       "    .dataframe thead th {\n",
       "        text-align: right;\n",
       "    }\n",
       "</style>\n",
       "<table border=\"1\" class=\"dataframe\">\n",
       "  <thead>\n",
       "    <tr style=\"text-align: right;\">\n",
       "      <th></th>\n",
       "      <th>Unnamed: 0</th>\n",
       "      <th>author</th>\n",
       "      <th>body</th>\n",
       "      <th>created_utc</th>\n",
       "      <th>gilded</th>\n",
       "      <th>score</th>\n",
       "      <th>parent_id</th>\n",
       "    </tr>\n",
       "  </thead>\n",
       "  <tbody>\n",
       "    <tr>\n",
       "      <th>0</th>\n",
       "      <td>0</td>\n",
       "      <td>kindcosmos</td>\n",
       "      <td>Current routine AM\\n\\n* La Rouche Posay Effacl...</td>\n",
       "      <td>1.538168e+09</td>\n",
       "      <td>0</td>\n",
       "      <td>1</td>\n",
       "      <td>t3_9jqq2z</td>\n",
       "    </tr>\n",
       "    <tr>\n",
       "      <th>1</th>\n",
       "      <td>1</td>\n",
       "      <td>JuliaAe</td>\n",
       "      <td>What botheres me the most is that most of them...</td>\n",
       "      <td>1.538168e+09</td>\n",
       "      <td>0</td>\n",
       "      <td>1</td>\n",
       "      <td>t3_9jqmvo</td>\n",
       "    </tr>\n",
       "    <tr>\n",
       "      <th>2</th>\n",
       "      <td>2</td>\n",
       "      <td>mosho84</td>\n",
       "      <td>I haven't tried the hydration products of cosr...</td>\n",
       "      <td>1.538168e+09</td>\n",
       "      <td>0</td>\n",
       "      <td>1</td>\n",
       "      <td>t3_9jqiqc</td>\n",
       "    </tr>\n",
       "    <tr>\n",
       "      <th>3</th>\n",
       "      <td>3</td>\n",
       "      <td>Cheralia123</td>\n",
       "      <td>&gt; I absolutely love the Hada Labo lotions\\n\\nw...</td>\n",
       "      <td>1.538168e+09</td>\n",
       "      <td>0</td>\n",
       "      <td>1</td>\n",
       "      <td>t1_e6thzb9</td>\n",
       "    </tr>\n",
       "    <tr>\n",
       "      <th>4</th>\n",
       "      <td>4</td>\n",
       "      <td>mosho84</td>\n",
       "      <td>Yes I bought mine from Amazon but I may but th...</td>\n",
       "      <td>1.538168e+09</td>\n",
       "      <td>0</td>\n",
       "      <td>1</td>\n",
       "      <td>t1_e6ti7cu</td>\n",
       "    </tr>\n",
       "  </tbody>\n",
       "</table>\n",
       "</div>"
      ],
      "text/plain": [
       "   Unnamed: 0       author                                               body  \\\n",
       "0           0   kindcosmos  Current routine AM\\n\\n* La Rouche Posay Effacl...   \n",
       "1           1      JuliaAe  What botheres me the most is that most of them...   \n",
       "2           2      mosho84  I haven't tried the hydration products of cosr...   \n",
       "3           3  Cheralia123  > I absolutely love the Hada Labo lotions\\n\\nw...   \n",
       "4           4      mosho84  Yes I bought mine from Amazon but I may but th...   \n",
       "\n",
       "    created_utc  gilded  score   parent_id  \n",
       "0  1.538168e+09       0      1   t3_9jqq2z  \n",
       "1  1.538168e+09       0      1   t3_9jqmvo  \n",
       "2  1.538168e+09       0      1   t3_9jqiqc  \n",
       "3  1.538168e+09       0      1  t1_e6thzb9  \n",
       "4  1.538168e+09       0      1  t1_e6ti7cu  "
      ]
     },
     "execution_count": 46,
     "metadata": {},
     "output_type": "execute_result"
    }
   ],
   "source": [
    "df_test.head()"
   ]
  },
  {
   "cell_type": "code",
   "execution_count": 47,
   "metadata": {},
   "outputs": [],
   "source": [
    "df_test['created'] = df_test['created_utc'].apply(get_date)"
   ]
  },
  {
   "cell_type": "code",
   "execution_count": 48,
   "metadata": {},
   "outputs": [
    {
     "data": {
      "text/plain": [
       "2018    10000\n",
       "Name: created, dtype: int64"
      ]
     },
     "execution_count": 48,
     "metadata": {},
     "output_type": "execute_result"
    }
   ],
   "source": [
    "df_test['created'].dt.year.value_counts()"
   ]
  },
  {
   "cell_type": "code",
   "execution_count": null,
   "metadata": {},
   "outputs": [],
   "source": []
  },
  {
   "cell_type": "code",
   "execution_count": null,
   "metadata": {},
   "outputs": [],
   "source": []
  },
  {
   "cell_type": "code",
   "execution_count": 66,
   "metadata": {},
   "outputs": [
    {
     "data": {
      "text/html": [
       "<div>\n",
       "<style scoped>\n",
       "    .dataframe tbody tr th:only-of-type {\n",
       "        vertical-align: middle;\n",
       "    }\n",
       "\n",
       "    .dataframe tbody tr th {\n",
       "        vertical-align: top;\n",
       "    }\n",
       "\n",
       "    .dataframe thead th {\n",
       "        text-align: right;\n",
       "    }\n",
       "</style>\n",
       "<table border=\"1\" class=\"dataframe\">\n",
       "  <thead>\n",
       "    <tr style=\"text-align: right;\">\n",
       "      <th></th>\n",
       "      <th>author</th>\n",
       "      <th>body</th>\n",
       "      <th>created_utc</th>\n",
       "      <th>gilded</th>\n",
       "      <th>score</th>\n",
       "      <th>parent_id</th>\n",
       "    </tr>\n",
       "  </thead>\n",
       "  <tbody>\n",
       "    <tr>\n",
       "      <th>0</th>\n",
       "      <td>aopanda</td>\n",
       "      <td>Not too early at all! I started using Vit C in...</td>\n",
       "      <td>1.538064e+09</td>\n",
       "      <td>0</td>\n",
       "      <td>1</td>\n",
       "      <td>t3_9je33i</td>\n",
       "    </tr>\n",
       "    <tr>\n",
       "      <th>1</th>\n",
       "      <td>beagums</td>\n",
       "      <td>I started using Vitamin C at 22 and I cannot r...</td>\n",
       "      <td>1.538064e+09</td>\n",
       "      <td>0</td>\n",
       "      <td>1</td>\n",
       "      <td>t3_9je33i</td>\n",
       "    </tr>\n",
       "    <tr>\n",
       "      <th>2</th>\n",
       "      <td>aopanda</td>\n",
       "      <td>You want to just leave it on without cleansing...</td>\n",
       "      <td>1.538064e+09</td>\n",
       "      <td>0</td>\n",
       "      <td>1</td>\n",
       "      <td>t3_9jduq5</td>\n",
       "    </tr>\n",
       "    <tr>\n",
       "      <th>3</th>\n",
       "      <td>AutoModerator</td>\n",
       "      <td>Hi there! \\n\\nIt seems like you may be looking...</td>\n",
       "      <td>1.538061e+09</td>\n",
       "      <td>0</td>\n",
       "      <td>1</td>\n",
       "      <td>t3_9jdqk6</td>\n",
       "    </tr>\n",
       "    <tr>\n",
       "      <th>4</th>\n",
       "      <td>aopanda</td>\n",
       "      <td>I've been following your challenge, although t...</td>\n",
       "      <td>1.538062e+09</td>\n",
       "      <td>0</td>\n",
       "      <td>1</td>\n",
       "      <td>t3_9jdqfp</td>\n",
       "    </tr>\n",
       "  </tbody>\n",
       "</table>\n",
       "</div>"
      ],
      "text/plain": [
       "          author                                               body  \\\n",
       "0        aopanda  Not too early at all! I started using Vit C in...   \n",
       "1        beagums  I started using Vitamin C at 22 and I cannot r...   \n",
       "2        aopanda  You want to just leave it on without cleansing...   \n",
       "3  AutoModerator  Hi there! \\n\\nIt seems like you may be looking...   \n",
       "4        aopanda  I've been following your challenge, although t...   \n",
       "\n",
       "    created_utc  gilded  score  parent_id  \n",
       "0  1.538064e+09       0      1  t3_9je33i  \n",
       "1  1.538064e+09       0      1  t3_9je33i  \n",
       "2  1.538064e+09       0      1  t3_9jduq5  \n",
       "3  1.538061e+09       0      1  t3_9jdqk6  \n",
       "4  1.538062e+09       0      1  t3_9jdqfp  "
      ]
     },
     "execution_count": 66,
     "metadata": {},
     "output_type": "execute_result"
    }
   ],
   "source": [
    "df.head()"
   ]
  },
  {
   "cell_type": "code",
   "execution_count": 67,
   "metadata": {},
   "outputs": [
    {
     "data": {
      "text/plain": [
       "2018    12200\n",
       "Name: created, dtype: int64"
      ]
     },
     "execution_count": 67,
     "metadata": {},
     "output_type": "execute_result"
    }
   ],
   "source": [
    "import datetime as dt\n",
    "def get_date(created):\n",
    "    return dt.datetime.fromtimestamp(created)\n",
    "\n",
    "df[\"created\"] = df['created_utc'].apply(get_date)\n",
    "\n",
    "df['created'].dt.year.value_counts()"
   ]
  },
  {
   "cell_type": "markdown",
   "metadata": {},
   "source": [
    "### Script cell below"
   ]
  },
  {
   "cell_type": "code",
   "execution_count": 64,
   "metadata": {},
   "outputs": [],
   "source": [
    "# import pandas as pd\n",
    "# import praw\n",
    "\n",
    "# reddit = praw.Reddit(client_id='bloYvop93Z9o5A', client_secret='VEqPOoC4WGtvTk0GYIol58vJqKE',\n",
    "#                      password='spookylipstick', user_agent='whoiswilliammurray - DSI',\n",
    "#                      username='whoiswilliammurray')\n",
    "\n",
    "# skin_care_addict = reddit.subreddit(\"SkincareAddiction\")\n",
    "\n",
    "# skin_care_addict_new = skin_care_addict.new(limit = 10)\n",
    "\n",
    "# dict_new = {\"title\":[],\n",
    "#             \"subreddit\":[],\n",
    "#                 \"score\":[], \n",
    "#                 \"id\":[], \n",
    "#                 \"url\":[], \n",
    "#                 \"comms_num\": [], \n",
    "#                 \"created\": [], \n",
    "#                 \"body\":[]}\n",
    "\n",
    "# comment_dict = {\"author\": [],\n",
    "#                 \"body\": [],\n",
    "#                 \"created_utc\": [],\n",
    "#                 \"gilded\": [],\n",
    "#                 \"score\": [],\n",
    "#                 \"parent_id\": []}\n",
    "# counter = 0\n",
    "\n",
    "# for submission in skin_care_addict_new:\n",
    "    \n",
    "#     submission.comments.replace_more(limit=None)\n",
    "    \n",
    "#     for comment in submission.comments.list():\n",
    "        \n",
    "#         counter += 1\n",
    "        \n",
    "#         comment_dict['author'].append(comment.author)\n",
    "#         comment_dict['body'].append(comment.body)\n",
    "#         comment_dict['created_utc'].append(comment.created_utc)\n",
    "#         comment_dict['gilded'].append(comment.gilded)\n",
    "#         comment_dict['score'].append(comment.score)\n",
    "#         comment_dict['parent_id'].append(comment.parent_id)\n",
    "        \n",
    "#         print(counter)\n",
    "        \n",
    "#         if counter % 100 == 0:\n",
    "#             df = pd.DataFrame(comment_dict)\n",
    "#             df.to_csv('comment_dict-' + str(counter) + '-.csv')"
   ]
  },
  {
   "cell_type": "code",
   "execution_count": 54,
   "metadata": {},
   "outputs": [
    {
     "name": "stdout",
     "output_type": "stream",
     "text": [
      "<class 'pandas.core.frame.DataFrame'>\n",
      "RangeIndex: 100 entries, 0 to 99\n",
      "Data columns (total 6 columns):\n",
      "author         100 non-null object\n",
      "body           100 non-null object\n",
      "created_utc    100 non-null float64\n",
      "gilded         100 non-null int64\n",
      "score          100 non-null int64\n",
      "parent_id      100 non-null object\n",
      "dtypes: float64(1), int64(2), object(3)\n",
      "memory usage: 4.8+ KB\n"
     ]
    }
   ],
   "source": [
    "comment_df.info()"
   ]
  },
  {
   "cell_type": "code",
   "execution_count": 38,
   "metadata": {},
   "outputs": [],
   "source": [
    "df = pd.DataFrame(comment_dict)"
   ]
  },
  {
   "cell_type": "code",
   "execution_count": 39,
   "metadata": {},
   "outputs": [
    {
     "data": {
      "text/html": [
       "<div>\n",
       "<style scoped>\n",
       "    .dataframe tbody tr th:only-of-type {\n",
       "        vertical-align: middle;\n",
       "    }\n",
       "\n",
       "    .dataframe tbody tr th {\n",
       "        vertical-align: top;\n",
       "    }\n",
       "\n",
       "    .dataframe thead th {\n",
       "        text-align: right;\n",
       "    }\n",
       "</style>\n",
       "<table border=\"1\" class=\"dataframe\">\n",
       "  <thead>\n",
       "    <tr style=\"text-align: right;\">\n",
       "      <th></th>\n",
       "      <th>author</th>\n",
       "      <th>body</th>\n",
       "      <th>created_utc</th>\n",
       "      <th>gilded</th>\n",
       "      <th>score</th>\n",
       "      <th>parent_id</th>\n",
       "    </tr>\n",
       "  </thead>\n",
       "  <tbody>\n",
       "    <tr>\n",
       "      <th>0</th>\n",
       "      <td>ShreepShreep</td>\n",
       "      <td>I’ve only tried TO’s peel, but I like it decen...</td>\n",
       "      <td>1.537993e+09</td>\n",
       "      <td>0</td>\n",
       "      <td>5</td>\n",
       "      <td>t3_9j4zrh</td>\n",
       "    </tr>\n",
       "    <tr>\n",
       "      <th>1</th>\n",
       "      <td>lipglosstwins</td>\n",
       "      <td>I use both. Honestly, I get the same exact res...</td>\n",
       "      <td>1.537986e+09</td>\n",
       "      <td>0</td>\n",
       "      <td>3</td>\n",
       "      <td>t3_9j4zrh</td>\n",
       "    </tr>\n",
       "    <tr>\n",
       "      <th>2</th>\n",
       "      <td>arn1115</td>\n",
       "      <td>They are similar in strength, but I find DE to...</td>\n",
       "      <td>1.537988e+09</td>\n",
       "      <td>0</td>\n",
       "      <td>3</td>\n",
       "      <td>t3_9j4zrh</td>\n",
       "    </tr>\n",
       "    <tr>\n",
       "      <th>3</th>\n",
       "      <td>F-U-N-E-X_S-V-F-X</td>\n",
       "      <td>Agreeing with previous poster that DE baby fac...</td>\n",
       "      <td>1.538009e+09</td>\n",
       "      <td>0</td>\n",
       "      <td>2</td>\n",
       "      <td>t3_9j4zrh</td>\n",
       "    </tr>\n",
       "    <tr>\n",
       "      <th>4</th>\n",
       "      <td>blovesb0524</td>\n",
       "      <td>I get more tingle/irritation from TO peel than...</td>\n",
       "      <td>1.537990e+09</td>\n",
       "      <td>0</td>\n",
       "      <td>1</td>\n",
       "      <td>t3_9j4zrh</td>\n",
       "    </tr>\n",
       "  </tbody>\n",
       "</table>\n",
       "</div>"
      ],
      "text/plain": [
       "              author                                               body  \\\n",
       "0       ShreepShreep  I’ve only tried TO’s peel, but I like it decen...   \n",
       "1      lipglosstwins  I use both. Honestly, I get the same exact res...   \n",
       "2            arn1115  They are similar in strength, but I find DE to...   \n",
       "3  F-U-N-E-X_S-V-F-X  Agreeing with previous poster that DE baby fac...   \n",
       "4        blovesb0524  I get more tingle/irritation from TO peel than...   \n",
       "\n",
       "    created_utc  gilded  score  parent_id  \n",
       "0  1.537993e+09       0      5  t3_9j4zrh  \n",
       "1  1.537986e+09       0      3  t3_9j4zrh  \n",
       "2  1.537988e+09       0      3  t3_9j4zrh  \n",
       "3  1.538009e+09       0      2  t3_9j4zrh  \n",
       "4  1.537990e+09       0      1  t3_9j4zrh  "
      ]
     },
     "execution_count": 39,
     "metadata": {},
     "output_type": "execute_result"
    }
   ],
   "source": [
    "df.head()"
   ]
  },
  {
   "cell_type": "code",
   "execution_count": 40,
   "metadata": {},
   "outputs": [
    {
     "name": "stdout",
     "output_type": "stream",
     "text": [
      "<class 'pandas.core.frame.DataFrame'>\n",
      "RangeIndex: 629 entries, 0 to 628\n",
      "Data columns (total 6 columns):\n",
      "author         628 non-null object\n",
      "body           629 non-null object\n",
      "created_utc    629 non-null float64\n",
      "gilded         629 non-null int64\n",
      "score          629 non-null int64\n",
      "parent_id      629 non-null object\n",
      "dtypes: float64(1), int64(2), object(3)\n",
      "memory usage: 29.6+ KB\n"
     ]
    }
   ],
   "source": [
    "df.info()"
   ]
  },
  {
   "cell_type": "code",
   "execution_count": null,
   "metadata": {},
   "outputs": [],
   "source": []
  },
  {
   "cell_type": "code",
   "execution_count": 44,
   "metadata": {},
   "outputs": [],
   "source": [
    "import datetime as dt\n",
    "def get_date(created):\n",
    "    return dt.datetime.fromtimestamp(created)\n",
    "\n",
    "df[\"created\"] = df['created_utc'].apply(get_date)\n",
    "\n",
    "df['created'].dt.year"
   ]
  },
  {
   "cell_type": "code",
   "execution_count": 50,
   "metadata": {},
   "outputs": [
    {
     "data": {
      "text/plain": [
       "621   2018-09-26 03:44:49\n",
       "628   2018-09-26 04:29:52\n",
       "601   2018-09-26 06:47:44\n",
       "626   2018-09-26 07:26:28\n",
       "619   2018-09-26 07:51:07\n",
       "602   2018-09-26 07:59:19\n",
       "618   2018-09-26 07:59:59\n",
       "603   2018-09-26 08:04:42\n",
       "596   2018-09-26 08:15:46\n",
       "606   2018-09-26 08:35:25\n",
       "610   2018-09-26 08:36:33\n",
       "564   2018-09-26 08:42:58\n",
       "614   2018-09-26 08:44:46\n",
       "556   2018-09-26 08:51:22\n",
       "569   2018-09-26 08:52:39\n",
       "565   2018-09-26 08:57:48\n",
       "570   2018-09-26 09:01:55\n",
       "558   2018-09-26 09:04:40\n",
       "622   2018-09-26 09:17:28\n",
       "576   2018-09-26 09:23:58\n",
       "567   2018-09-26 09:28:21\n",
       "607   2018-09-26 09:29:02\n",
       "566   2018-09-26 09:35:27\n",
       "604   2018-09-26 09:48:56\n",
       "552   2018-09-26 09:51:02\n",
       "526   2018-09-26 09:52:31\n",
       "557   2018-09-26 09:55:42\n",
       "577   2018-09-26 09:56:30\n",
       "559   2018-09-26 09:56:57\n",
       "586   2018-09-26 10:01:33\n",
       "              ...        \n",
       "130   2018-09-27 08:08:38\n",
       "346   2018-09-27 08:12:03\n",
       "93    2018-09-27 08:15:17\n",
       "83    2018-09-27 08:15:58\n",
       "96    2018-09-27 08:20:51\n",
       "525   2018-09-27 08:21:18\n",
       "39    2018-09-27 08:26:28\n",
       "44    2018-09-27 08:27:01\n",
       "245   2018-09-27 08:29:51\n",
       "353   2018-09-27 08:34:16\n",
       "132   2018-09-27 08:35:17\n",
       "73    2018-09-27 08:59:38\n",
       "230   2018-09-27 08:59:45\n",
       "62    2018-09-27 09:06:48\n",
       "497   2018-09-27 09:14:58\n",
       "320   2018-09-27 09:19:54\n",
       "204   2018-09-27 09:32:12\n",
       "361   2018-09-27 09:38:16\n",
       "101   2018-09-27 09:43:20\n",
       "100   2018-09-27 09:59:52\n",
       "246   2018-09-27 10:01:54\n",
       "188   2018-09-27 10:03:20\n",
       "468   2018-09-27 10:15:08\n",
       "247   2018-09-27 10:19:32\n",
       "378   2018-09-27 10:27:37\n",
       "46    2018-09-27 10:32:10\n",
       "248   2018-09-27 10:37:15\n",
       "262   2018-09-27 10:38:18\n",
       "47    2018-09-27 10:44:42\n",
       "176   2018-09-27 10:47:00\n",
       "Name: created, Length: 629, dtype: datetime64[ns]"
      ]
     },
     "execution_count": 50,
     "metadata": {},
     "output_type": "execute_result"
    }
   ],
   "source": [
    "df['created'].sort_values()"
   ]
  },
  {
   "cell_type": "code",
   "execution_count": null,
   "metadata": {},
   "outputs": [],
   "source": []
  },
  {
   "cell_type": "code",
   "execution_count": null,
   "metadata": {},
   "outputs": [],
   "source": []
  },
  {
   "cell_type": "code",
   "execution_count": null,
   "metadata": {},
   "outputs": [],
   "source": []
  },
  {
   "cell_type": "code",
   "execution_count": null,
   "metadata": {},
   "outputs": [],
   "source": []
  },
  {
   "cell_type": "code",
   "execution_count": null,
   "metadata": {},
   "outputs": [],
   "source": []
  },
  {
   "cell_type": "code",
   "execution_count": null,
   "metadata": {},
   "outputs": [],
   "source": []
  },
  {
   "cell_type": "code",
   "execution_count": null,
   "metadata": {},
   "outputs": [],
   "source": []
  },
  {
   "cell_type": "code",
   "execution_count": null,
   "metadata": {},
   "outputs": [],
   "source": []
  },
  {
   "cell_type": "code",
   "execution_count": null,
   "metadata": {},
   "outputs": [],
   "source": []
  },
  {
   "cell_type": "code",
   "execution_count": null,
   "metadata": {},
   "outputs": [],
   "source": [
    "#r = praw.Reddit()\n",
    "api = PushshiftAPI(r)"
   ]
  },
  {
   "cell_type": "code",
   "execution_count": 98,
   "metadata": {},
   "outputs": [],
   "source": [
    "from psaw import PushshiftAPI\n",
    "\n",
    "api = PushshiftAPI(reddit)"
   ]
  },
  {
   "cell_type": "code",
   "execution_count": 99,
   "metadata": {},
   "outputs": [
    {
     "data": {
      "text/plain": [
       "<psaw.PushshiftAPI.PushshiftAPI at 0x1a15f7f668>"
      ]
     },
     "execution_count": 99,
     "metadata": {},
     "output_type": "execute_result"
    }
   ],
   "source": [
    "api"
   ]
  },
  {
   "cell_type": "code",
   "execution_count": 121,
   "metadata": {
    "scrolled": true
   },
   "outputs": [
    {
     "ename": "KeyError",
     "evalue": "'created_utc'",
     "output_type": "error",
     "traceback": [
      "\u001b[0;31m---------------------------------------------------------------------------\u001b[0m",
      "\u001b[0;31mKeyError\u001b[0m                                  Traceback (most recent call last)",
      "\u001b[0;32m<timed exec>\u001b[0m in \u001b[0;36m<module>\u001b[0;34m()\u001b[0m\n",
      "\u001b[0;32m~/anaconda3/lib/python3.6/site-packages/psaw/PushshiftAPI.py\u001b[0m in \u001b[0;36m_praw_search\u001b[0;34m(self, **kwargs)\u001b[0m\n\u001b[1;32m    276\u001b[0m             \u001b[0mgen\u001b[0m \u001b[0;34m=\u001b[0m \u001b[0;34m[\u001b[0m\u001b[0mself\u001b[0m\u001b[0;34m.\u001b[0m\u001b[0m_get_submission_comment_ids\u001b[0m\u001b[0;34m(\u001b[0m\u001b[0;34m**\u001b[0m\u001b[0mkwargs\u001b[0m\u001b[0;34m)\u001b[0m\u001b[0;34m]\u001b[0m\u001b[0;34m\u001b[0m\u001b[0m\n\u001b[1;32m    277\u001b[0m \u001b[0;34m\u001b[0m\u001b[0m\n\u001b[0;32m--> 278\u001b[0;31m         \u001b[0;32mfor\u001b[0m \u001b[0mbatch\u001b[0m \u001b[0;32min\u001b[0m \u001b[0mgen\u001b[0m\u001b[0;34m:\u001b[0m\u001b[0;34m\u001b[0m\u001b[0m\n\u001b[0m\u001b[1;32m    279\u001b[0m             \u001b[0;32mif\u001b[0m \u001b[0;32mnot\u001b[0m \u001b[0mbatch\u001b[0m\u001b[0;34m:\u001b[0m\u001b[0;34m\u001b[0m\u001b[0m\n\u001b[1;32m    280\u001b[0m                 \u001b[0;32mreturn\u001b[0m\u001b[0;34m\u001b[0m\u001b[0m\n",
      "\u001b[0;32m~/anaconda3/lib/python3.6/site-packages/psaw/PushshiftAPI.py\u001b[0m in \u001b[0;36m_search\u001b[0;34m(self, kind, stop_condition, return_batch, dataset, **kwargs)\u001b[0m\n\u001b[1;32m    204\u001b[0m \u001b[0;34m\u001b[0m\u001b[0m\n\u001b[1;32m    205\u001b[0m             \u001b[0;32mfor\u001b[0m \u001b[0mthing\u001b[0m \u001b[0;32min\u001b[0m \u001b[0mresults\u001b[0m\u001b[0;34m:\u001b[0m\u001b[0;34m\u001b[0m\u001b[0m\n\u001b[0;32m--> 206\u001b[0;31m                 \u001b[0mthing\u001b[0m \u001b[0;34m=\u001b[0m \u001b[0mself\u001b[0m\u001b[0;34m.\u001b[0m\u001b[0m_wrap_thing\u001b[0m\u001b[0;34m(\u001b[0m\u001b[0mthing\u001b[0m\u001b[0;34m,\u001b[0m \u001b[0mkind\u001b[0m\u001b[0;34m)\u001b[0m\u001b[0;34m\u001b[0m\u001b[0m\n\u001b[0m\u001b[1;32m    207\u001b[0m \u001b[0;34m\u001b[0m\u001b[0m\n\u001b[1;32m    208\u001b[0m                 \u001b[0;32mif\u001b[0m \u001b[0mreturn_batch\u001b[0m\u001b[0;34m:\u001b[0m\u001b[0;34m\u001b[0m\u001b[0m\n",
      "\u001b[0;32m~/anaconda3/lib/python3.6/site-packages/psaw/PushshiftAPI.py\u001b[0m in \u001b[0;36m_wrap_thing\u001b[0;34m(self, thing, kind)\u001b[0m\n\u001b[1;32m    112\u001b[0m     \u001b[0;32mdef\u001b[0m \u001b[0m_wrap_thing\u001b[0m\u001b[0;34m(\u001b[0m\u001b[0mself\u001b[0m\u001b[0;34m,\u001b[0m \u001b[0mthing\u001b[0m\u001b[0;34m,\u001b[0m \u001b[0mkind\u001b[0m\u001b[0;34m)\u001b[0m\u001b[0;34m:\u001b[0m\u001b[0;34m\u001b[0m\u001b[0m\n\u001b[1;32m    113\u001b[0m         \u001b[0;34m\"\"\"Mimic praw.Submission and praw.Comment API\"\"\"\u001b[0m\u001b[0;34m\u001b[0m\u001b[0m\n\u001b[0;32m--> 114\u001b[0;31m         \u001b[0mthing\u001b[0m\u001b[0;34m[\u001b[0m\u001b[0;34m'created'\u001b[0m\u001b[0;34m]\u001b[0m \u001b[0;34m=\u001b[0m \u001b[0mself\u001b[0m\u001b[0;34m.\u001b[0m\u001b[0m_epoch_utc_to_local\u001b[0m\u001b[0;34m(\u001b[0m\u001b[0mthing\u001b[0m\u001b[0;34m[\u001b[0m\u001b[0;34m'created_utc'\u001b[0m\u001b[0;34m]\u001b[0m\u001b[0;34m)\u001b[0m\u001b[0;34m\u001b[0m\u001b[0m\n\u001b[0m\u001b[1;32m    115\u001b[0m         \u001b[0mthing\u001b[0m\u001b[0;34m[\u001b[0m\u001b[0;34m'd_'\u001b[0m\u001b[0;34m]\u001b[0m \u001b[0;34m=\u001b[0m \u001b[0mcopy\u001b[0m\u001b[0;34m.\u001b[0m\u001b[0mdeepcopy\u001b[0m\u001b[0;34m(\u001b[0m\u001b[0mthing\u001b[0m\u001b[0;34m)\u001b[0m\u001b[0;34m\u001b[0m\u001b[0m\n\u001b[1;32m    116\u001b[0m         \u001b[0mThingType\u001b[0m \u001b[0;34m=\u001b[0m \u001b[0mnamedtuple\u001b[0m\u001b[0;34m(\u001b[0m\u001b[0mkind\u001b[0m\u001b[0;34m,\u001b[0m \u001b[0mthing\u001b[0m\u001b[0;34m.\u001b[0m\u001b[0mkeys\u001b[0m\u001b[0;34m(\u001b[0m\u001b[0;34m)\u001b[0m\u001b[0;34m)\u001b[0m\u001b[0;34m\u001b[0m\u001b[0m\n",
      "\u001b[0;31mKeyError\u001b[0m: 'created_utc'"
     ]
    }
   ],
   "source": [
    "%%time\n",
    "\n",
    "import datetime as dt\n",
    "import time\n",
    "\n",
    "start_epoch=int(dt.datetime(2016, 1, 1).timestamp())\n",
    "end_epoch = int(dt.datetime(2016, 1, 10,).timestamp())\n",
    "\n",
    "test = list(api.search_comments(after = start_epoch,\n",
    "                                before = end_epoch,\n",
    "                                subreddit = 'SkincareAddiction',\n",
    "                                fields='data'))"
   ]
  },
  {
   "cell_type": "code",
   "execution_count": 120,
   "metadata": {},
   "outputs": [
    {
     "data": {
      "text/plain": [
       "1451624400"
      ]
     },
     "execution_count": 120,
     "metadata": {},
     "output_type": "execute_result"
    }
   ],
   "source": [
    "start_epoch"
   ]
  },
  {
   "cell_type": "code",
   "execution_count": 116,
   "metadata": {},
   "outputs": [
    {
     "data": {
      "text/plain": [
       "generator"
      ]
     },
     "execution_count": 116,
     "metadata": {},
     "output_type": "execute_result"
    }
   ],
   "source": [
    "type(test)"
   ]
  },
  {
   "cell_type": "code",
   "execution_count": 115,
   "metadata": {},
   "outputs": [
    {
     "data": {
      "text/plain": [
       "[]"
      ]
     },
     "execution_count": 115,
     "metadata": {},
     "output_type": "execute_result"
    }
   ],
   "source": [
    "cache"
   ]
  },
  {
   "cell_type": "code",
   "execution_count": 110,
   "metadata": {
    "scrolled": true
   },
   "outputs": [
    {
     "data": {
      "text/html": [
       "<div>\n",
       "<style scoped>\n",
       "    .dataframe tbody tr th:only-of-type {\n",
       "        vertical-align: middle;\n",
       "    }\n",
       "\n",
       "    .dataframe tbody tr th {\n",
       "        vertical-align: top;\n",
       "    }\n",
       "\n",
       "    .dataframe thead th {\n",
       "        text-align: right;\n",
       "    }\n",
       "</style>\n",
       "<table border=\"1\" class=\"dataframe\">\n",
       "  <thead>\n",
       "    <tr style=\"text-align: right;\">\n",
       "      <th></th>\n",
       "      <th>0</th>\n",
       "    </tr>\n",
       "  </thead>\n",
       "  <tbody>\n",
       "    <tr>\n",
       "      <th>0</th>\n",
       "      <td>cysl3uw</td>\n",
       "    </tr>\n",
       "    <tr>\n",
       "      <th>1</th>\n",
       "      <td>cysl39a</td>\n",
       "    </tr>\n",
       "    <tr>\n",
       "      <th>2</th>\n",
       "      <td>cysl1lb</td>\n",
       "    </tr>\n",
       "    <tr>\n",
       "      <th>3</th>\n",
       "      <td>cysl10f</td>\n",
       "    </tr>\n",
       "    <tr>\n",
       "      <th>4</th>\n",
       "      <td>cyskx3w</td>\n",
       "    </tr>\n",
       "    <tr>\n",
       "      <th>5</th>\n",
       "      <td>cysko4d</td>\n",
       "    </tr>\n",
       "    <tr>\n",
       "      <th>6</th>\n",
       "      <td>cysknp1</td>\n",
       "    </tr>\n",
       "    <tr>\n",
       "      <th>7</th>\n",
       "      <td>cyskn9o</td>\n",
       "    </tr>\n",
       "    <tr>\n",
       "      <th>8</th>\n",
       "      <td>cysklgg</td>\n",
       "    </tr>\n",
       "    <tr>\n",
       "      <th>9</th>\n",
       "      <td>cyskk04</td>\n",
       "    </tr>\n",
       "    <tr>\n",
       "      <th>10</th>\n",
       "      <td>cyskjpj</td>\n",
       "    </tr>\n",
       "    <tr>\n",
       "      <th>11</th>\n",
       "      <td>cyskgkc</td>\n",
       "    </tr>\n",
       "    <tr>\n",
       "      <th>12</th>\n",
       "      <td>cyskfo5</td>\n",
       "    </tr>\n",
       "    <tr>\n",
       "      <th>13</th>\n",
       "      <td>cyskelj</td>\n",
       "    </tr>\n",
       "    <tr>\n",
       "      <th>14</th>\n",
       "      <td>cysk50y</td>\n",
       "    </tr>\n",
       "    <tr>\n",
       "      <th>15</th>\n",
       "      <td>cysjr59</td>\n",
       "    </tr>\n",
       "    <tr>\n",
       "      <th>16</th>\n",
       "      <td>cysjj5q</td>\n",
       "    </tr>\n",
       "    <tr>\n",
       "      <th>17</th>\n",
       "      <td>cysjhmq</td>\n",
       "    </tr>\n",
       "    <tr>\n",
       "      <th>18</th>\n",
       "      <td>cysjda5</td>\n",
       "    </tr>\n",
       "    <tr>\n",
       "      <th>19</th>\n",
       "      <td>cysj7q7</td>\n",
       "    </tr>\n",
       "    <tr>\n",
       "      <th>20</th>\n",
       "      <td>cysiyih</td>\n",
       "    </tr>\n",
       "    <tr>\n",
       "      <th>21</th>\n",
       "      <td>cysiw5y</td>\n",
       "    </tr>\n",
       "    <tr>\n",
       "      <th>22</th>\n",
       "      <td>cysiuje</td>\n",
       "    </tr>\n",
       "    <tr>\n",
       "      <th>23</th>\n",
       "      <td>cysitef</td>\n",
       "    </tr>\n",
       "    <tr>\n",
       "      <th>24</th>\n",
       "      <td>cysik4d</td>\n",
       "    </tr>\n",
       "    <tr>\n",
       "      <th>25</th>\n",
       "      <td>cysik1h</td>\n",
       "    </tr>\n",
       "    <tr>\n",
       "      <th>26</th>\n",
       "      <td>cysijvx</td>\n",
       "    </tr>\n",
       "    <tr>\n",
       "      <th>27</th>\n",
       "      <td>cysidlk</td>\n",
       "    </tr>\n",
       "    <tr>\n",
       "      <th>28</th>\n",
       "      <td>cysidky</td>\n",
       "    </tr>\n",
       "    <tr>\n",
       "      <th>29</th>\n",
       "      <td>cysi94q</td>\n",
       "    </tr>\n",
       "    <tr>\n",
       "      <th>...</th>\n",
       "      <td>...</td>\n",
       "    </tr>\n",
       "    <tr>\n",
       "      <th>6546</th>\n",
       "      <td>cyi4805</td>\n",
       "    </tr>\n",
       "    <tr>\n",
       "      <th>6547</th>\n",
       "      <td>cyi47t4</td>\n",
       "    </tr>\n",
       "    <tr>\n",
       "      <th>6548</th>\n",
       "      <td>cyi476e</td>\n",
       "    </tr>\n",
       "    <tr>\n",
       "      <th>6549</th>\n",
       "      <td>cyi45im</td>\n",
       "    </tr>\n",
       "    <tr>\n",
       "      <th>6550</th>\n",
       "      <td>cyi43xn</td>\n",
       "    </tr>\n",
       "    <tr>\n",
       "      <th>6551</th>\n",
       "      <td>cyi43t7</td>\n",
       "    </tr>\n",
       "    <tr>\n",
       "      <th>6552</th>\n",
       "      <td>cyi43m7</td>\n",
       "    </tr>\n",
       "    <tr>\n",
       "      <th>6553</th>\n",
       "      <td>cyi3zsf</td>\n",
       "    </tr>\n",
       "    <tr>\n",
       "      <th>6554</th>\n",
       "      <td>cyi3yma</td>\n",
       "    </tr>\n",
       "    <tr>\n",
       "      <th>6555</th>\n",
       "      <td>cyi3sss</td>\n",
       "    </tr>\n",
       "    <tr>\n",
       "      <th>6556</th>\n",
       "      <td>cyi3k84</td>\n",
       "    </tr>\n",
       "    <tr>\n",
       "      <th>6557</th>\n",
       "      <td>cyi3hnk</td>\n",
       "    </tr>\n",
       "    <tr>\n",
       "      <th>6558</th>\n",
       "      <td>cyi39o6</td>\n",
       "    </tr>\n",
       "    <tr>\n",
       "      <th>6559</th>\n",
       "      <td>cyi38pj</td>\n",
       "    </tr>\n",
       "    <tr>\n",
       "      <th>6560</th>\n",
       "      <td>cyi379c</td>\n",
       "    </tr>\n",
       "    <tr>\n",
       "      <th>6561</th>\n",
       "      <td>cyi36r3</td>\n",
       "    </tr>\n",
       "    <tr>\n",
       "      <th>6562</th>\n",
       "      <td>cyi34lb</td>\n",
       "    </tr>\n",
       "    <tr>\n",
       "      <th>6563</th>\n",
       "      <td>cyi34kr</td>\n",
       "    </tr>\n",
       "    <tr>\n",
       "      <th>6564</th>\n",
       "      <td>cyi30n4</td>\n",
       "    </tr>\n",
       "    <tr>\n",
       "      <th>6565</th>\n",
       "      <td>cyi2xlz</td>\n",
       "    </tr>\n",
       "    <tr>\n",
       "      <th>6566</th>\n",
       "      <td>cyi2qh6</td>\n",
       "    </tr>\n",
       "    <tr>\n",
       "      <th>6567</th>\n",
       "      <td>cyi2pr2</td>\n",
       "    </tr>\n",
       "    <tr>\n",
       "      <th>6568</th>\n",
       "      <td>cyi2pmb</td>\n",
       "    </tr>\n",
       "    <tr>\n",
       "      <th>6569</th>\n",
       "      <td>cyi2pld</td>\n",
       "    </tr>\n",
       "    <tr>\n",
       "      <th>6570</th>\n",
       "      <td>cyi2n4j</td>\n",
       "    </tr>\n",
       "    <tr>\n",
       "      <th>6571</th>\n",
       "      <td>cyi2m2d</td>\n",
       "    </tr>\n",
       "    <tr>\n",
       "      <th>6572</th>\n",
       "      <td>cyi2cid</td>\n",
       "    </tr>\n",
       "    <tr>\n",
       "      <th>6573</th>\n",
       "      <td>cyi2cgy</td>\n",
       "    </tr>\n",
       "    <tr>\n",
       "      <th>6574</th>\n",
       "      <td>cyi2bay</td>\n",
       "    </tr>\n",
       "    <tr>\n",
       "      <th>6575</th>\n",
       "      <td>cyi20dq</td>\n",
       "    </tr>\n",
       "  </tbody>\n",
       "</table>\n",
       "<p>6576 rows × 1 columns</p>\n",
       "</div>"
      ],
      "text/plain": [
       "            0\n",
       "0     cysl3uw\n",
       "1     cysl39a\n",
       "2     cysl1lb\n",
       "3     cysl10f\n",
       "4     cyskx3w\n",
       "5     cysko4d\n",
       "6     cysknp1\n",
       "7     cyskn9o\n",
       "8     cysklgg\n",
       "9     cyskk04\n",
       "10    cyskjpj\n",
       "11    cyskgkc\n",
       "12    cyskfo5\n",
       "13    cyskelj\n",
       "14    cysk50y\n",
       "15    cysjr59\n",
       "16    cysjj5q\n",
       "17    cysjhmq\n",
       "18    cysjda5\n",
       "19    cysj7q7\n",
       "20    cysiyih\n",
       "21    cysiw5y\n",
       "22    cysiuje\n",
       "23    cysitef\n",
       "24    cysik4d\n",
       "25    cysik1h\n",
       "26    cysijvx\n",
       "27    cysidlk\n",
       "28    cysidky\n",
       "29    cysi94q\n",
       "...       ...\n",
       "6546  cyi4805\n",
       "6547  cyi47t4\n",
       "6548  cyi476e\n",
       "6549  cyi45im\n",
       "6550  cyi43xn\n",
       "6551  cyi43t7\n",
       "6552  cyi43m7\n",
       "6553  cyi3zsf\n",
       "6554  cyi3yma\n",
       "6555  cyi3sss\n",
       "6556  cyi3k84\n",
       "6557  cyi3hnk\n",
       "6558  cyi39o6\n",
       "6559  cyi38pj\n",
       "6560  cyi379c\n",
       "6561  cyi36r3\n",
       "6562  cyi34lb\n",
       "6563  cyi34kr\n",
       "6564  cyi30n4\n",
       "6565  cyi2xlz\n",
       "6566  cyi2qh6\n",
       "6567  cyi2pr2\n",
       "6568  cyi2pmb\n",
       "6569  cyi2pld\n",
       "6570  cyi2n4j\n",
       "6571  cyi2m2d\n",
       "6572  cyi2cid\n",
       "6573  cyi2cgy\n",
       "6574  cyi2bay\n",
       "6575  cyi20dq\n",
       "\n",
       "[6576 rows x 1 columns]"
      ]
     },
     "execution_count": 110,
     "metadata": {},
     "output_type": "execute_result"
    }
   ],
   "source": [
    "pd.DataFrame(test)"
   ]
  },
  {
   "cell_type": "code",
   "execution_count": null,
   "metadata": {},
   "outputs": [],
   "source": []
  },
  {
   "cell_type": "code",
   "execution_count": 93,
   "metadata": {},
   "outputs": [
    {
     "data": {
      "text/plain": [
       "Submission(id='3yzo2x')"
      ]
     },
     "execution_count": 93,
     "metadata": {},
     "output_type": "execute_result"
    }
   ],
   "source": [
    "test[-1]"
   ]
  },
  {
   "cell_type": "code",
   "execution_count": 51,
   "metadata": {},
   "outputs": [],
   "source": [
    "# for submission in skin_care_addict.new(limit=10):\n",
    "#     print(submission.title)  # Output: the submission's title\n",
    "#     print(submission.score)  # Output: the submission's score\n",
    "#     print(submission.id)     # Output: the submission's ID\n",
    "#     print(submission.url)    # Output: the URL the submission points to\n",
    "#     print(submission.created_utc)\n",
    "#     print(submission.comments)"
   ]
  },
  {
   "cell_type": "code",
   "execution_count": 40,
   "metadata": {},
   "outputs": [
    {
     "ename": "AttributeError",
     "evalue": "'Subreddit' object has no attribute 'submissions'",
     "output_type": "error",
     "traceback": [
      "\u001b[0;31m---------------------------------------------------------------------------\u001b[0m",
      "\u001b[0;31mAttributeError\u001b[0m                            Traceback (most recent call last)",
      "\u001b[0;32m<ipython-input-40-f11ac03b0704>\u001b[0m in \u001b[0;36m<module>\u001b[0;34m()\u001b[0m\n\u001b[0;32m----> 1\u001b[0;31m \u001b[0mskin_care_addict\u001b[0m\u001b[0;34m.\u001b[0m\u001b[0msubmissions\u001b[0m\u001b[0;34m(\u001b[0m\u001b[0mstart\u001b[0m\u001b[0;34m=\u001b[0m\u001b[0;36m1451606400\u001b[0m\u001b[0;34m,\u001b[0m \u001b[0mend\u001b[0m\u001b[0;34m=\u001b[0m\u001b[0;36m1483228800\u001b[0m\u001b[0;34m,\u001b[0m \u001b[0mextra_query\u001b[0m\u001b[0;34m=\u001b[0m\u001b[0;32mNone\u001b[0m\u001b[0;34m)\u001b[0m\u001b[0;34m\u001b[0m\u001b[0m\n\u001b[0m",
      "\u001b[0;32m~/anaconda3/lib/python3.6/site-packages/praw/models/reddit/base.py\u001b[0m in \u001b[0;36m__getattr__\u001b[0;34m(self, attribute)\u001b[0m\n\u001b[1;32m     37\u001b[0m         \u001b[0;32mif\u001b[0m \u001b[0;32mnot\u001b[0m \u001b[0mattribute\u001b[0m\u001b[0;34m.\u001b[0m\u001b[0mstartswith\u001b[0m\u001b[0;34m(\u001b[0m\u001b[0;34m'_'\u001b[0m\u001b[0;34m)\u001b[0m \u001b[0;32mand\u001b[0m \u001b[0;32mnot\u001b[0m \u001b[0mself\u001b[0m\u001b[0;34m.\u001b[0m\u001b[0m_fetched\u001b[0m\u001b[0;34m:\u001b[0m\u001b[0;34m\u001b[0m\u001b[0m\n\u001b[1;32m     38\u001b[0m             \u001b[0mself\u001b[0m\u001b[0;34m.\u001b[0m\u001b[0m_fetch\u001b[0m\u001b[0;34m(\u001b[0m\u001b[0;34m)\u001b[0m\u001b[0;34m\u001b[0m\u001b[0m\n\u001b[0;32m---> 39\u001b[0;31m             \u001b[0;32mreturn\u001b[0m \u001b[0mgetattr\u001b[0m\u001b[0;34m(\u001b[0m\u001b[0mself\u001b[0m\u001b[0;34m,\u001b[0m \u001b[0mattribute\u001b[0m\u001b[0;34m)\u001b[0m\u001b[0;34m\u001b[0m\u001b[0m\n\u001b[0m\u001b[1;32m     40\u001b[0m         raise AttributeError('{!r} object has no attribute {!r}'\n\u001b[1;32m     41\u001b[0m                              .format(self.__class__.__name__, attribute))\n",
      "\u001b[0;32m~/anaconda3/lib/python3.6/site-packages/praw/models/reddit/base.py\u001b[0m in \u001b[0;36m__getattr__\u001b[0;34m(self, attribute)\u001b[0m\n\u001b[1;32m     39\u001b[0m             \u001b[0;32mreturn\u001b[0m \u001b[0mgetattr\u001b[0m\u001b[0;34m(\u001b[0m\u001b[0mself\u001b[0m\u001b[0;34m,\u001b[0m \u001b[0mattribute\u001b[0m\u001b[0;34m)\u001b[0m\u001b[0;34m\u001b[0m\u001b[0m\n\u001b[1;32m     40\u001b[0m         raise AttributeError('{!r} object has no attribute {!r}'\n\u001b[0;32m---> 41\u001b[0;31m                              .format(self.__class__.__name__, attribute))\n\u001b[0m\u001b[1;32m     42\u001b[0m \u001b[0;34m\u001b[0m\u001b[0m\n\u001b[1;32m     43\u001b[0m     \u001b[0;32mdef\u001b[0m \u001b[0m__hash__\u001b[0m\u001b[0;34m(\u001b[0m\u001b[0mself\u001b[0m\u001b[0;34m)\u001b[0m\u001b[0;34m:\u001b[0m\u001b[0;34m\u001b[0m\u001b[0m\n",
      "\u001b[0;31mAttributeError\u001b[0m: 'Subreddit' object has no attribute 'submissions'"
     ]
    }
   ],
   "source": [
    "skin_care_addict.submissions(start=1451606400, end=1483228800, extra_query=None)"
   ]
  },
  {
   "cell_type": "code",
   "execution_count": 46,
   "metadata": {},
   "outputs": [
    {
     "ename": "AttributeError",
     "evalue": "'Subreddit' object has no attribute 'submissions'",
     "output_type": "error",
     "traceback": [
      "\u001b[0;31m---------------------------------------------------------------------------\u001b[0m",
      "\u001b[0;31mAttributeError\u001b[0m                            Traceback (most recent call last)",
      "\u001b[0;32m<ipython-input-46-2a5558a0d02e>\u001b[0m in \u001b[0;36m<module>\u001b[0;34m()\u001b[0m\n\u001b[0;32m----> 1\u001b[0;31m \u001b[0;32mfor\u001b[0m \u001b[0msubmission\u001b[0m \u001b[0;32min\u001b[0m \u001b[0mskin_care_addict\u001b[0m\u001b[0;34m.\u001b[0m\u001b[0msubmissions\u001b[0m\u001b[0;34m(\u001b[0m\u001b[0;36m1451606400\u001b[0m\u001b[0;34m,\u001b[0m \u001b[0;36m1483228800\u001b[0m\u001b[0;34m,\u001b[0m \u001b[0mextra_query\u001b[0m\u001b[0;34m=\u001b[0m\u001b[0mstr_query\u001b[0m\u001b[0;34m)\u001b[0m\u001b[0;34m:\u001b[0m\u001b[0;34m\u001b[0m\u001b[0m\n\u001b[0m\u001b[1;32m      2\u001b[0m     \u001b[0mprint\u001b[0m\u001b[0;34m(\u001b[0m\u001b[0msubmission\u001b[0m\u001b[0;34m.\u001b[0m\u001b[0mtitle\u001b[0m\u001b[0;34m)\u001b[0m\u001b[0;34m\u001b[0m\u001b[0m\n\u001b[1;32m      3\u001b[0m     \u001b[0mprint\u001b[0m\u001b[0;34m(\u001b[0m\u001b[0msubmission\u001b[0m\u001b[0;34m.\u001b[0m\u001b[0mscore\u001b[0m\u001b[0;34m)\u001b[0m\u001b[0;34m\u001b[0m\u001b[0m\n\u001b[1;32m      4\u001b[0m     \u001b[0mprint\u001b[0m\u001b[0;34m(\u001b[0m\u001b[0msubmission\u001b[0m\u001b[0;34m.\u001b[0m\u001b[0mnum_comments\u001b[0m\u001b[0;34m)\u001b[0m\u001b[0;34m\u001b[0m\u001b[0m\n\u001b[1;32m      5\u001b[0m     \u001b[0mprint\u001b[0m\u001b[0;34m(\u001b[0m\u001b[0;34m)\u001b[0m\u001b[0;34m\u001b[0m\u001b[0m\n",
      "\u001b[0;32m~/anaconda3/lib/python3.6/site-packages/praw/models/reddit/base.py\u001b[0m in \u001b[0;36m__getattr__\u001b[0;34m(self, attribute)\u001b[0m\n\u001b[1;32m     39\u001b[0m             \u001b[0;32mreturn\u001b[0m \u001b[0mgetattr\u001b[0m\u001b[0;34m(\u001b[0m\u001b[0mself\u001b[0m\u001b[0;34m,\u001b[0m \u001b[0mattribute\u001b[0m\u001b[0;34m)\u001b[0m\u001b[0;34m\u001b[0m\u001b[0m\n\u001b[1;32m     40\u001b[0m         raise AttributeError('{!r} object has no attribute {!r}'\n\u001b[0;32m---> 41\u001b[0;31m                              .format(self.__class__.__name__, attribute))\n\u001b[0m\u001b[1;32m     42\u001b[0m \u001b[0;34m\u001b[0m\u001b[0m\n\u001b[1;32m     43\u001b[0m     \u001b[0;32mdef\u001b[0m \u001b[0m__hash__\u001b[0m\u001b[0;34m(\u001b[0m\u001b[0mself\u001b[0m\u001b[0;34m)\u001b[0m\u001b[0;34m:\u001b[0m\u001b[0;34m\u001b[0m\u001b[0m\n",
      "\u001b[0;31mAttributeError\u001b[0m: 'Subreddit' object has no attribute 'submissions'"
     ]
    }
   ],
   "source": [
    "for submission in skin_care_addict.submissions(start = 1451606400, end = 1483228800, extra_query=str_query):\n",
    "    print(submission.title)\n",
    "    print(submission.score)\n",
    "    print(submission.num_comments)\n",
    "    print()"
   ]
  }
 ],
 "metadata": {
  "kernelspec": {
   "display_name": "Python 3",
   "language": "python",
   "name": "python3"
  },
  "language_info": {
   "codemirror_mode": {
    "name": "ipython",
    "version": 3
   },
   "file_extension": ".py",
   "mimetype": "text/x-python",
   "name": "python",
   "nbconvert_exporter": "python",
   "pygments_lexer": "ipython3",
   "version": "3.6.5"
  }
 },
 "nbformat": 4,
 "nbformat_minor": 2
}
