{
 "cells": [
  {
   "cell_type": "code",
   "execution_count": 1,
   "metadata": {},
   "outputs": [
    {
     "name": "stdout",
     "output_type": "stream",
     "text": [
      "Requirement already satisfied: python-twitter in /Users/emmaeleanoryork/anaconda3/lib/python3.6/site-packages (3.4.2)\n",
      "Requirement already satisfied: requests-oauthlib in /Users/emmaeleanoryork/anaconda3/lib/python3.6/site-packages (from python-twitter) (1.0.0)\n",
      "Requirement already satisfied: requests in /Users/emmaeleanoryork/anaconda3/lib/python3.6/site-packages (from python-twitter) (2.18.4)\n",
      "Requirement already satisfied: future in /Users/emmaeleanoryork/anaconda3/lib/python3.6/site-packages (from python-twitter) (0.16.0)\n",
      "Requirement already satisfied: oauthlib>=0.6.2 in /Users/emmaeleanoryork/anaconda3/lib/python3.6/site-packages (from requests-oauthlib->python-twitter) (2.1.0)\n",
      "Requirement already satisfied: chardet<3.1.0,>=3.0.2 in /Users/emmaeleanoryork/anaconda3/lib/python3.6/site-packages (from requests->python-twitter) (3.0.4)\n",
      "Requirement already satisfied: idna<2.7,>=2.5 in /Users/emmaeleanoryork/anaconda3/lib/python3.6/site-packages (from requests->python-twitter) (2.6)\n",
      "Requirement already satisfied: urllib3<1.23,>=1.21.1 in /Users/emmaeleanoryork/anaconda3/lib/python3.6/site-packages (from requests->python-twitter) (1.22)\n",
      "Requirement already satisfied: certifi>=2017.4.17 in /Users/emmaeleanoryork/anaconda3/lib/python3.6/site-packages (from requests->python-twitter) (2018.8.24)\n"
     ]
    }
   ],
   "source": [
    "!pip install python-twitter"
   ]
  },
  {
   "cell_type": "code",
   "execution_count": 2,
   "metadata": {},
   "outputs": [
    {
     "name": "stdout",
     "output_type": "stream",
     "text": [
      "Requirement already satisfied: tweepy in /Users/emmaeleanoryork/anaconda3/lib/python3.6/site-packages (3.6.0)\n",
      "Requirement already satisfied: six>=1.10.0 in /Users/emmaeleanoryork/anaconda3/lib/python3.6/site-packages (from tweepy) (1.11.0)\n",
      "Requirement already satisfied: PySocks>=1.5.7 in /Users/emmaeleanoryork/anaconda3/lib/python3.6/site-packages (from tweepy) (1.6.8)\n",
      "Requirement already satisfied: requests>=2.11.1 in /Users/emmaeleanoryork/anaconda3/lib/python3.6/site-packages (from tweepy) (2.18.4)\n",
      "Requirement already satisfied: requests-oauthlib>=0.7.0 in /Users/emmaeleanoryork/anaconda3/lib/python3.6/site-packages (from tweepy) (1.0.0)\n",
      "Requirement already satisfied: chardet<3.1.0,>=3.0.2 in /Users/emmaeleanoryork/anaconda3/lib/python3.6/site-packages (from requests>=2.11.1->tweepy) (3.0.4)\n",
      "Requirement already satisfied: idna<2.7,>=2.5 in /Users/emmaeleanoryork/anaconda3/lib/python3.6/site-packages (from requests>=2.11.1->tweepy) (2.6)\n",
      "Requirement already satisfied: urllib3<1.23,>=1.21.1 in /Users/emmaeleanoryork/anaconda3/lib/python3.6/site-packages (from requests>=2.11.1->tweepy) (1.22)\n",
      "Requirement already satisfied: certifi>=2017.4.17 in /Users/emmaeleanoryork/anaconda3/lib/python3.6/site-packages (from requests>=2.11.1->tweepy) (2018.8.24)\n",
      "Requirement already satisfied: oauthlib>=0.6.2 in /Users/emmaeleanoryork/anaconda3/lib/python3.6/site-packages (from requests-oauthlib>=0.7.0->tweepy) (2.1.0)\n"
     ]
    }
   ],
   "source": [
    "!pip install tweepy"
   ]
  },
  {
   "cell_type": "code",
   "execution_count": 3,
   "metadata": {},
   "outputs": [],
   "source": [
    "consumer_key = 'HKX1Nh9XGxcdLnFc0XVkT5dEb'\n",
    "consumer_secret = \"pMdPRPOsBfBN2qaN7VNwaKSD3hoUhNQGGInh3OfyNj6iPEI3MQ\"\n",
    "access_token = '1045109120683188224-p8crxonR7fWEZZcUkgc0YEt7nB5xKo'\n",
    "access_secret = 'tVN6tVn1HzgrSsmzJKSs8ZweYdWzMCMQthIXiOnnmxbZ4'"
   ]
  },
  {
   "cell_type": "code",
   "execution_count": 4,
   "metadata": {},
   "outputs": [],
   "source": [
    "import tweepy\n",
    "\n",
    "# creating the authentication object\n",
    "auth = tweepy.OAuthHandler(consumer_key, consumer_secret)\n",
    "\n",
    "# setting access token and secret\n",
    "auth.set_access_token(access_token, access_secret)\n",
    "\n",
    "# creating the API object while passing in auth information\n",
    "# the wait on rate avoids asking too much of twitter\n",
    "api = tweepy.API(auth, \n",
    "                 wait_on_rate_limit = True,\n",
    "                 wait_on_rate_limit_notify = True)"
   ]
  },
  {
   "cell_type": "code",
   "execution_count": 5,
   "metadata": {},
   "outputs": [
    {
     "data": {
      "text/plain": [
       "{'/search/tweets': {'limit': 180, 'remaining': 180, 'reset': 1538433660}}"
      ]
     },
     "execution_count": 5,
     "metadata": {},
     "output_type": "execute_result"
    }
   ],
   "source": [
    "#You can check how many queries you have left using rate_limit_status() method\n",
    "api.rate_limit_status()['resources']['search']"
   ]
  },
  {
   "cell_type": "code",
   "execution_count": 6,
   "metadata": {},
   "outputs": [],
   "source": [
    "name = \"ultabeauty\"\n",
    "# Number of tweets to pull\n",
    "tweetCount = 200\n",
    "\n",
    "# Calling the user_timeline function with our parameters\n",
    "results = api.user_timeline(id=name, count=tweetCount, include_rts = False)"
   ]
  },
  {
   "cell_type": "code",
   "execution_count": 7,
   "metadata": {},
   "outputs": [],
   "source": [
    "# DO NOT RUN THIS CELL AGAIN!!!\n",
    "\n",
    "import pandas as pd\n",
    "ulta_oct_1 = pd.DataFrame(data=[tweet.text for tweet in results],\n",
    "                             columns = ['Tweets'])"
   ]
  },
  {
   "cell_type": "code",
   "execution_count": null,
   "metadata": {},
   "outputs": [],
   "source": [
    "# RUN ON OCT 3RD!!!\n",
    "\n",
    "import pandas as pd\n",
    "ulta_oct_3 = pd.DataFrame(data=[tweet.text for tweet in results],\n",
    "                             columns = ['Tweets'])"
   ]
  },
  {
   "cell_type": "code",
   "execution_count": 8,
   "metadata": {},
   "outputs": [
    {
     "data": {
      "text/html": [
       "<div>\n",
       "<style scoped>\n",
       "    .dataframe tbody tr th:only-of-type {\n",
       "        vertical-align: middle;\n",
       "    }\n",
       "\n",
       "    .dataframe tbody tr th {\n",
       "        vertical-align: top;\n",
       "    }\n",
       "\n",
       "    .dataframe thead th {\n",
       "        text-align: right;\n",
       "    }\n",
       "</style>\n",
       "<table border=\"1\" class=\"dataframe\">\n",
       "  <thead>\n",
       "    <tr style=\"text-align: right;\">\n",
       "      <th></th>\n",
       "      <th>Tweets</th>\n",
       "    </tr>\n",
       "  </thead>\n",
       "  <tbody>\n",
       "    <tr>\n",
       "      <th>0</th>\n",
       "      <td>@yece_cruz You sure will! If you have any issu...</td>\n",
       "    </tr>\n",
       "    <tr>\n",
       "      <th>1</th>\n",
       "      <td>@ObsoleteEnigma Happy to help! All bonus point...</td>\n",
       "    </tr>\n",
       "    <tr>\n",
       "      <th>2</th>\n",
       "      <td>@GeerCatherine That is sad. Please exchange th...</td>\n",
       "    </tr>\n",
       "    <tr>\n",
       "      <th>3</th>\n",
       "      <td>@squiggg We're sorry to hear about this, Chris...</td>\n",
       "    </tr>\n",
       "    <tr>\n",
       "      <th>4</th>\n",
       "      <td>@givethemglorie So sorry for the inconvenience...</td>\n",
       "    </tr>\n",
       "  </tbody>\n",
       "</table>\n",
       "</div>"
      ],
      "text/plain": [
       "                                              Tweets\n",
       "0  @yece_cruz You sure will! If you have any issu...\n",
       "1  @ObsoleteEnigma Happy to help! All bonus point...\n",
       "2  @GeerCatherine That is sad. Please exchange th...\n",
       "3  @squiggg We're sorry to hear about this, Chris...\n",
       "4  @givethemglorie So sorry for the inconvenience..."
      ]
     },
     "execution_count": 8,
     "metadata": {},
     "output_type": "execute_result"
    }
   ],
   "source": [
    "ulta_oct_1.head()"
   ]
  },
  {
   "cell_type": "code",
   "execution_count": 9,
   "metadata": {},
   "outputs": [],
   "source": [
    "import numpy as np\n",
    "\n",
    "ulta_oct_1['ID'] = np.array([tweet.id for tweet in results])\n",
    "ulta_oct_1['Date'] = np.array([tweet.created_at for tweet in results])\n",
    "ulta_oct_1['Source'] = np.array([tweet.source for tweet in results])\n",
    "ulta_oct_1['Likes'] = np.array([tweet.favorite_count for tweet in results])\n",
    "ulta_oct_1['RTs'] = np.array([tweet.retweet_count for tweet in results])\n",
    "ulta_oct_1['Length'] = np.array([len(tweet.text) for tweet in results])"
   ]
  },
  {
   "cell_type": "code",
   "execution_count": 10,
   "metadata": {},
   "outputs": [
    {
     "data": {
      "text/html": [
       "<div>\n",
       "<style scoped>\n",
       "    .dataframe tbody tr th:only-of-type {\n",
       "        vertical-align: middle;\n",
       "    }\n",
       "\n",
       "    .dataframe tbody tr th {\n",
       "        vertical-align: top;\n",
       "    }\n",
       "\n",
       "    .dataframe thead th {\n",
       "        text-align: right;\n",
       "    }\n",
       "</style>\n",
       "<table border=\"1\" class=\"dataframe\">\n",
       "  <thead>\n",
       "    <tr style=\"text-align: right;\">\n",
       "      <th></th>\n",
       "      <th>Tweets</th>\n",
       "      <th>ID</th>\n",
       "      <th>Date</th>\n",
       "      <th>Source</th>\n",
       "      <th>Likes</th>\n",
       "      <th>RTs</th>\n",
       "      <th>Length</th>\n",
       "    </tr>\n",
       "  </thead>\n",
       "  <tbody>\n",
       "    <tr>\n",
       "      <th>0</th>\n",
       "      <td>@yece_cruz You sure will! If you have any issu...</td>\n",
       "      <td>1046887119824793600</td>\n",
       "      <td>2018-10-01 22:18:34</td>\n",
       "      <td>Sprinklr</td>\n",
       "      <td>0</td>\n",
       "      <td>0</td>\n",
       "      <td>112</td>\n",
       "    </tr>\n",
       "    <tr>\n",
       "      <th>1</th>\n",
       "      <td>@ObsoleteEnigma Happy to help! All bonus point...</td>\n",
       "      <td>1046872002236174337</td>\n",
       "      <td>2018-10-01 21:18:29</td>\n",
       "      <td>Sprinklr</td>\n",
       "      <td>0</td>\n",
       "      <td>0</td>\n",
       "      <td>140</td>\n",
       "    </tr>\n",
       "    <tr>\n",
       "      <th>2</th>\n",
       "      <td>@GeerCatherine That is sad. Please exchange th...</td>\n",
       "      <td>1046865084792881152</td>\n",
       "      <td>2018-10-01 20:51:00</td>\n",
       "      <td>Sprinklr</td>\n",
       "      <td>0</td>\n",
       "      <td>0</td>\n",
       "      <td>91</td>\n",
       "    </tr>\n",
       "    <tr>\n",
       "      <th>3</th>\n",
       "      <td>@squiggg We're sorry to hear about this, Chris...</td>\n",
       "      <td>1046840046391824386</td>\n",
       "      <td>2018-10-01 19:11:31</td>\n",
       "      <td>Sprinklr</td>\n",
       "      <td>0</td>\n",
       "      <td>0</td>\n",
       "      <td>140</td>\n",
       "    </tr>\n",
       "    <tr>\n",
       "      <th>4</th>\n",
       "      <td>@givethemglorie So sorry for the inconvenience...</td>\n",
       "      <td>1046816144089391104</td>\n",
       "      <td>2018-10-01 17:36:32</td>\n",
       "      <td>Sprinklr</td>\n",
       "      <td>0</td>\n",
       "      <td>0</td>\n",
       "      <td>140</td>\n",
       "    </tr>\n",
       "  </tbody>\n",
       "</table>\n",
       "</div>"
      ],
      "text/plain": [
       "                                              Tweets                   ID  \\\n",
       "0  @yece_cruz You sure will! If you have any issu...  1046887119824793600   \n",
       "1  @ObsoleteEnigma Happy to help! All bonus point...  1046872002236174337   \n",
       "2  @GeerCatherine That is sad. Please exchange th...  1046865084792881152   \n",
       "3  @squiggg We're sorry to hear about this, Chris...  1046840046391824386   \n",
       "4  @givethemglorie So sorry for the inconvenience...  1046816144089391104   \n",
       "\n",
       "                 Date    Source  Likes  RTs  Length  \n",
       "0 2018-10-01 22:18:34  Sprinklr      0    0     112  \n",
       "1 2018-10-01 21:18:29  Sprinklr      0    0     140  \n",
       "2 2018-10-01 20:51:00  Sprinklr      0    0      91  \n",
       "3 2018-10-01 19:11:31  Sprinklr      0    0     140  \n",
       "4 2018-10-01 17:36:32  Sprinklr      0    0     140  "
      ]
     },
     "execution_count": 10,
     "metadata": {},
     "output_type": "execute_result"
    }
   ],
   "source": [
    "ulta_oct_1.head()"
   ]
  },
  {
   "cell_type": "code",
   "execution_count": 11,
   "metadata": {},
   "outputs": [],
   "source": [
    "ulta_oct_1.set_index('Date', inplace=True)"
   ]
  },
  {
   "cell_type": "code",
   "execution_count": 12,
   "metadata": {},
   "outputs": [
    {
     "data": {
      "text/html": [
       "<div>\n",
       "<style scoped>\n",
       "    .dataframe tbody tr th:only-of-type {\n",
       "        vertical-align: middle;\n",
       "    }\n",
       "\n",
       "    .dataframe tbody tr th {\n",
       "        vertical-align: top;\n",
       "    }\n",
       "\n",
       "    .dataframe thead th {\n",
       "        text-align: right;\n",
       "    }\n",
       "</style>\n",
       "<table border=\"1\" class=\"dataframe\">\n",
       "  <thead>\n",
       "    <tr style=\"text-align: right;\">\n",
       "      <th></th>\n",
       "      <th>Tweets</th>\n",
       "      <th>ID</th>\n",
       "      <th>Source</th>\n",
       "      <th>Likes</th>\n",
       "      <th>RTs</th>\n",
       "      <th>Length</th>\n",
       "    </tr>\n",
       "    <tr>\n",
       "      <th>Date</th>\n",
       "      <th></th>\n",
       "      <th></th>\n",
       "      <th></th>\n",
       "      <th></th>\n",
       "      <th></th>\n",
       "      <th></th>\n",
       "    </tr>\n",
       "  </thead>\n",
       "  <tbody>\n",
       "    <tr>\n",
       "      <th>2018-10-01 22:18:34</th>\n",
       "      <td>@yece_cruz You sure will! If you have any issu...</td>\n",
       "      <td>1046887119824793600</td>\n",
       "      <td>Sprinklr</td>\n",
       "      <td>0</td>\n",
       "      <td>0</td>\n",
       "      <td>112</td>\n",
       "    </tr>\n",
       "    <tr>\n",
       "      <th>2018-10-01 21:18:29</th>\n",
       "      <td>@ObsoleteEnigma Happy to help! All bonus point...</td>\n",
       "      <td>1046872002236174337</td>\n",
       "      <td>Sprinklr</td>\n",
       "      <td>0</td>\n",
       "      <td>0</td>\n",
       "      <td>140</td>\n",
       "    </tr>\n",
       "    <tr>\n",
       "      <th>2018-10-01 20:51:00</th>\n",
       "      <td>@GeerCatherine That is sad. Please exchange th...</td>\n",
       "      <td>1046865084792881152</td>\n",
       "      <td>Sprinklr</td>\n",
       "      <td>0</td>\n",
       "      <td>0</td>\n",
       "      <td>91</td>\n",
       "    </tr>\n",
       "    <tr>\n",
       "      <th>2018-10-01 19:11:31</th>\n",
       "      <td>@squiggg We're sorry to hear about this, Chris...</td>\n",
       "      <td>1046840046391824386</td>\n",
       "      <td>Sprinklr</td>\n",
       "      <td>0</td>\n",
       "      <td>0</td>\n",
       "      <td>140</td>\n",
       "    </tr>\n",
       "    <tr>\n",
       "      <th>2018-10-01 17:36:32</th>\n",
       "      <td>@givethemglorie So sorry for the inconvenience...</td>\n",
       "      <td>1046816144089391104</td>\n",
       "      <td>Sprinklr</td>\n",
       "      <td>0</td>\n",
       "      <td>0</td>\n",
       "      <td>140</td>\n",
       "    </tr>\n",
       "  </tbody>\n",
       "</table>\n",
       "</div>"
      ],
      "text/plain": [
       "                                                                Tweets  \\\n",
       "Date                                                                     \n",
       "2018-10-01 22:18:34  @yece_cruz You sure will! If you have any issu...   \n",
       "2018-10-01 21:18:29  @ObsoleteEnigma Happy to help! All bonus point...   \n",
       "2018-10-01 20:51:00  @GeerCatherine That is sad. Please exchange th...   \n",
       "2018-10-01 19:11:31  @squiggg We're sorry to hear about this, Chris...   \n",
       "2018-10-01 17:36:32  @givethemglorie So sorry for the inconvenience...   \n",
       "\n",
       "                                      ID    Source  Likes  RTs  Length  \n",
       "Date                                                                    \n",
       "2018-10-01 22:18:34  1046887119824793600  Sprinklr      0    0     112  \n",
       "2018-10-01 21:18:29  1046872002236174337  Sprinklr      0    0     140  \n",
       "2018-10-01 20:51:00  1046865084792881152  Sprinklr      0    0      91  \n",
       "2018-10-01 19:11:31  1046840046391824386  Sprinklr      0    0     140  \n",
       "2018-10-01 17:36:32  1046816144089391104  Sprinklr      0    0     140  "
      ]
     },
     "execution_count": 12,
     "metadata": {},
     "output_type": "execute_result"
    }
   ],
   "source": [
    "ulta_oct_1.head()"
   ]
  },
  {
   "cell_type": "code",
   "execution_count": 13,
   "metadata": {},
   "outputs": [
    {
     "data": {
      "text/html": [
       "<div>\n",
       "<style scoped>\n",
       "    .dataframe tbody tr th:only-of-type {\n",
       "        vertical-align: middle;\n",
       "    }\n",
       "\n",
       "    .dataframe tbody tr th {\n",
       "        vertical-align: top;\n",
       "    }\n",
       "\n",
       "    .dataframe thead th {\n",
       "        text-align: right;\n",
       "    }\n",
       "</style>\n",
       "<table border=\"1\" class=\"dataframe\">\n",
       "  <thead>\n",
       "    <tr style=\"text-align: right;\">\n",
       "      <th></th>\n",
       "      <th>Tweets</th>\n",
       "      <th>ID</th>\n",
       "      <th>Source</th>\n",
       "      <th>Likes</th>\n",
       "      <th>RTs</th>\n",
       "      <th>Length</th>\n",
       "    </tr>\n",
       "    <tr>\n",
       "      <th>Date</th>\n",
       "      <th></th>\n",
       "      <th></th>\n",
       "      <th></th>\n",
       "      <th></th>\n",
       "      <th></th>\n",
       "      <th></th>\n",
       "    </tr>\n",
       "  </thead>\n",
       "  <tbody>\n",
       "    <tr>\n",
       "      <th>2018-09-24 20:44:00</th>\n",
       "      <td>@Jack_Becausewhy It should be in your emails f...</td>\n",
       "      <td>1044326608516075521</td>\n",
       "      <td>Sprinklr</td>\n",
       "      <td>0</td>\n",
       "      <td>0</td>\n",
       "      <td>140</td>\n",
       "    </tr>\n",
       "    <tr>\n",
       "      <th>2018-09-24 19:36:00</th>\n",
       "      <td>@_lauragurrola We’re so excited about this lau...</td>\n",
       "      <td>1044309495701282816</td>\n",
       "      <td>Sprinklr</td>\n",
       "      <td>1</td>\n",
       "      <td>0</td>\n",
       "      <td>140</td>\n",
       "    </tr>\n",
       "    <tr>\n",
       "      <th>2018-09-24 19:30:01</th>\n",
       "      <td>It's fall, y'all. Kick it off with a new stash...</td>\n",
       "      <td>1044307988436189185</td>\n",
       "      <td>Sprinklr</td>\n",
       "      <td>106</td>\n",
       "      <td>18</td>\n",
       "      <td>140</td>\n",
       "    </tr>\n",
       "    <tr>\n",
       "      <th>2018-09-24 19:18:31</th>\n",
       "      <td>@LisaLDukes1 Hi, Lisa. We’ve sent you an email...</td>\n",
       "      <td>1044305094018322432</td>\n",
       "      <td>Sprinklr</td>\n",
       "      <td>1</td>\n",
       "      <td>1</td>\n",
       "      <td>132</td>\n",
       "    </tr>\n",
       "    <tr>\n",
       "      <th>2018-09-24 18:38:32</th>\n",
       "      <td>@bxngtanx1d It looks like our website is up an...</td>\n",
       "      <td>1044295034697396225</td>\n",
       "      <td>Sprinklr</td>\n",
       "      <td>0</td>\n",
       "      <td>0</td>\n",
       "      <td>140</td>\n",
       "    </tr>\n",
       "  </tbody>\n",
       "</table>\n",
       "</div>"
      ],
      "text/plain": [
       "                                                                Tweets  \\\n",
       "Date                                                                     \n",
       "2018-09-24 20:44:00  @Jack_Becausewhy It should be in your emails f...   \n",
       "2018-09-24 19:36:00  @_lauragurrola We’re so excited about this lau...   \n",
       "2018-09-24 19:30:01  It's fall, y'all. Kick it off with a new stash...   \n",
       "2018-09-24 19:18:31  @LisaLDukes1 Hi, Lisa. We’ve sent you an email...   \n",
       "2018-09-24 18:38:32  @bxngtanx1d It looks like our website is up an...   \n",
       "\n",
       "                                      ID    Source  Likes  RTs  Length  \n",
       "Date                                                                    \n",
       "2018-09-24 20:44:00  1044326608516075521  Sprinklr      0    0     140  \n",
       "2018-09-24 19:36:00  1044309495701282816  Sprinklr      1    0     140  \n",
       "2018-09-24 19:30:01  1044307988436189185  Sprinklr    106   18     140  \n",
       "2018-09-24 19:18:31  1044305094018322432  Sprinklr      1    1     132  \n",
       "2018-09-24 18:38:32  1044295034697396225  Sprinklr      0    0     140  "
      ]
     },
     "execution_count": 13,
     "metadata": {},
     "output_type": "execute_result"
    }
   ],
   "source": [
    "ulta_oct_1.tail()"
   ]
  },
  {
   "cell_type": "code",
   "execution_count": null,
   "metadata": {},
   "outputs": [],
   "source": []
  }
 ],
 "metadata": {
  "kernelspec": {
   "display_name": "Python 3",
   "language": "python",
   "name": "python3"
  },
  "language_info": {
   "codemirror_mode": {
    "name": "ipython",
    "version": 3
   },
   "file_extension": ".py",
   "mimetype": "text/x-python",
   "name": "python",
   "nbconvert_exporter": "python",
   "pygments_lexer": "ipython3",
   "version": "3.6.5"
  }
 },
 "nbformat": 4,
 "nbformat_minor": 2
}
